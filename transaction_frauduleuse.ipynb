{
  "cells": [
    {
      "cell_type": "code",
      "source": [
        "import numpy as np\n",
        "import pandas as pd\n",
        "import tensorflow as tf\n",
        "from tensorflow import keras\n",
        "from google.colab import drive\n",
        "drive.mount('/content/drive')\n",
        "\n",
        "#TensorFlow et Keras\n",
        "# Charger les données\n",
        "data = pd.read_csv('/content/drive/MyDrive/creditcard.csv')\n",
        "\n",
        "# Séparer les données en ensembles d'entraînement et de test\n",
        "#Les données sont séparées en ensembles d'entraînement et de test à l'aide de la fonction train_test_split\n",
        "from sklearn.model_selection import train_test_split\n",
        "\n",
        "X = data.drop(['Class'], axis=1)\n",
        "y = data['Class']\n",
        "\n",
        "X_train, X_test, y_train, y_test = train_test_split(X, y, test_size=0.2, random_state=42)\n",
        "\n",
        "# Normaliser les données à l aide de stadardScaler\n",
        "from sklearn.preprocessing import StandardScaler\n",
        "\n",
        "scaler = StandardScaler()\n",
        "X_train = scaler.fit_transform(X_train)\n",
        "X_test = scaler.transform(X_test)\n",
        "\n",
        "# Créer le modèle\n",
        "#Le modèle est créé en utilisant Sequential de Keras et en ajoutant\n",
        "#des couches Dense avec des activations relu. La couche de sortie a une activation sigmoid pour la classification binaire.\n",
        "model = keras.models.Sequential([\n",
        "    keras.layers.Dense(30, activation='relu', input_shape=X_train.shape[1:]),\n",
        "    keras.layers.Dropout(0.5),\n",
        "    keras.layers.Dense(20, activation='relu'),\n",
        "    keras.layers.Dropout(0.5),\n",
        "    keras.layers.Dense(1, activation='sigmoid')\n",
        "])\n",
        "\n",
        "# Compiler le modèle avec une fonction de perte binaire croisée (binary_crossentropy)\n",
        "#et un optimiseur Adam. La métrique d'évaluation choisie est l'exactitude (accuracy).\n",
        "model.compile(loss='binary_crossentropy', optimizer='adam', metrics=['accuracy'])\n",
        "\n",
        "# Entraîner le modèle\n",
        "history = model.fit(X_train, y_train, epochs=10, validation_data=(X_test, y_test))\n",
        "\n",
        "# Évaluer le modèle\n",
        "#Le modèle est évalué sur les données de test à l'aide de la méthode evaluate, qui renvoie la perte de test et l'exactitude de test.\n",
        "test_loss, test_acc = model.evaluate(X_test, y_test)\n",
        "\n",
        "print('Test accuracy:', test_acc)"
      ],
      "metadata": {
        "id": "lP_OrDOZ4tzX",
        "colab": {
          "base_uri": "https://localhost:8080/"
        },
        "outputId": "f72f3ad5-7792-4420-e429-8de46515a5db"
      },
      "execution_count": 1,
      "outputs": [
        {
          "output_type": "stream",
          "name": "stdout",
          "text": [
            "Mounted at /content/drive\n",
            "Epoch 1/10\n",
            "7121/7121 [==============================] - 17s 2ms/step - loss: 0.0370 - accuracy: 0.9894 - val_loss: 0.0044 - val_accuracy: 0.9993\n",
            "Epoch 2/10\n",
            "7121/7121 [==============================] - 15s 2ms/step - loss: 0.0068 - accuracy: 0.9989 - val_loss: 0.0040 - val_accuracy: 0.9989\n",
            "Epoch 3/10\n",
            "7121/7121 [==============================] - 16s 2ms/step - loss: 0.0057 - accuracy: 0.9990 - val_loss: 0.0043 - val_accuracy: 0.9994\n",
            "Epoch 4/10\n",
            "7121/7121 [==============================] - 16s 2ms/step - loss: 0.0054 - accuracy: 0.9990 - val_loss: 0.0037 - val_accuracy: 0.9993\n",
            "Epoch 5/10\n",
            "7121/7121 [==============================] - 20s 3ms/step - loss: 0.0051 - accuracy: 0.9989 - val_loss: 0.0040 - val_accuracy: 0.9987\n",
            "Epoch 6/10\n",
            "7121/7121 [==============================] - 16s 2ms/step - loss: 0.0047 - accuracy: 0.9990 - val_loss: 0.0039 - val_accuracy: 0.9989\n",
            "Epoch 7/10\n",
            "7121/7121 [==============================] - 16s 2ms/step - loss: 0.0043 - accuracy: 0.9991 - val_loss: 0.0034 - val_accuracy: 0.9994\n",
            "Epoch 8/10\n",
            "7121/7121 [==============================] - 16s 2ms/step - loss: 0.0044 - accuracy: 0.9990 - val_loss: 0.0036 - val_accuracy: 0.9992\n",
            "Epoch 9/10\n",
            "7121/7121 [==============================] - 16s 2ms/step - loss: 0.0042 - accuracy: 0.9990 - val_loss: 0.0041 - val_accuracy: 0.9993\n",
            "Epoch 10/10\n",
            "7121/7121 [==============================] - 16s 2ms/step - loss: 0.0041 - accuracy: 0.9992 - val_loss: 0.0031 - val_accuracy: 0.9994\n",
            "1781/1781 [==============================] - 3s 1ms/step - loss: 0.0031 - accuracy: 0.9994\n",
            "Test accuracy: 0.9993680119514465\n"
          ]
        }
      ]
    },
    {
      "cell_type": "code",
      "source": [
        "from google.colab import drive\n",
        "drive.mount('/content/drive')"
      ],
      "metadata": {
        "id": "xk6v4D0hKgTI",
        "colab": {
          "base_uri": "https://localhost:8080/"
        },
        "outputId": "b07faf40-6794-40ee-b9c5-a56c66c7b1f0"
      },
      "execution_count": 2,
      "outputs": [
        {
          "output_type": "stream",
          "name": "stdout",
          "text": [
            "Drive already mounted at /content/drive; to attempt to forcibly remount, call drive.mount(\"/content/drive\", force_remount=True).\n"
          ]
        }
      ]
    }
  ],
  "metadata": {
    "colab": {
      "provenance": []
    },
    "kernelspec": {
      "display_name": "Python 3",
      "name": "python3"
    }
  },
  "nbformat": 4,
  "nbformat_minor": 0
}