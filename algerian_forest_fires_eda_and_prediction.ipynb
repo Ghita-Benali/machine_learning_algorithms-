{
  "cells": [
    {
      "cell_type": "markdown",
      "id": "7b1aecc2",
      "metadata": {
        "papermill": {
          "duration": 0.013494,
          "end_time": "2023-04-19T14:44:52.212156",
          "exception": false,
          "start_time": "2023-04-19T14:44:52.198662",
          "status": "completed"
        },
        "tags": [],
        "id": "7b1aecc2"
      },
      "source": [
        "### importing libraries"
      ]
    },
    {
      "cell_type": "code",
      "execution_count": null,
      "id": "5c7d40e7",
      "metadata": {
        "execution": {
          "iopub.execute_input": "2023-04-19T14:44:52.241087Z",
          "iopub.status.busy": "2023-04-19T14:44:52.239875Z",
          "iopub.status.idle": "2023-04-19T14:44:53.401945Z",
          "shell.execute_reply": "2023-04-19T14:44:53.400771Z"
        },
        "papermill": {
          "duration": 1.17926,
          "end_time": "2023-04-19T14:44:53.404594",
          "exception": false,
          "start_time": "2023-04-19T14:44:52.225334",
          "status": "completed"
        },
        "tags": [],
        "id": "5c7d40e7"
      },
      "outputs": [],
      "source": [
        "import pandas as pd\n",
        "import numpy as np\n",
        "import matplotlib.pyplot as plt\n",
        "import seaborn as sns"
      ]
    },
    {
      "cell_type": "markdown",
      "id": "09e8133d",
      "metadata": {
        "papermill": {
          "duration": 0.013221,
          "end_time": "2023-04-19T14:44:53.432668",
          "exception": false,
          "start_time": "2023-04-19T14:44:53.419447",
          "status": "completed"
        },
        "tags": [],
        "id": "09e8133d"
      },
      "source": [
        "### importing dataset"
      ]
    },
    {
      "cell_type": "code",
      "execution_count": null,
      "id": "a4b33ffc",
      "metadata": {
        "execution": {
          "iopub.execute_input": "2023-04-19T14:44:53.462233Z",
          "iopub.status.busy": "2023-04-19T14:44:53.461772Z",
          "iopub.status.idle": "2023-04-19T14:44:53.520164Z",
          "shell.execute_reply": "2023-04-19T14:44:53.519018Z"
        },
        "papermill": {
          "duration": 0.076438,
          "end_time": "2023-04-19T14:44:53.522403",
          "exception": false,
          "start_time": "2023-04-19T14:44:53.445965",
          "status": "completed"
        },
        "tags": [],
        "colab": {
          "base_uri": "https://localhost:8080/",
          "height": 206
        },
        "id": "a4b33ffc",
        "outputId": "397cb61c-1b78-4986-8ece-c2f56df2be41"
      },
      "outputs": [
        {
          "output_type": "execute_result",
          "data": {
            "text/plain": [
              "                                                                  Bejaia Region Dataset \n",
              "day month year Temperature  RH  Ws Rain  FFMC DMC DC  ISI BUI FWI              Classes  \n",
              "01  06    2012 29          57  18  0     65.7 3.4 7.6 1.3 3.4 0.5            not fire   \n",
              "02  06    2012 29          61  13  1.3   64.4 4.1 7.6 1   3.9 0.4            not fire   \n",
              "03  06    2012 26          82  22  13.1  47.1 2.5 7.1 0.3 2.7 0.1            not fire   \n",
              "04  06    2012 25          89  13  2.5   28.6 1.3 6.9 0   1.7 0              not fire   "
            ],
            "text/html": [
              "\n",
              "  <div id=\"df-e8d3ec07-34be-46ca-806f-e37993bd9147\">\n",
              "    <div class=\"colab-df-container\">\n",
              "      <div>\n",
              "<style scoped>\n",
              "    .dataframe tbody tr th:only-of-type {\n",
              "        vertical-align: middle;\n",
              "    }\n",
              "\n",
              "    .dataframe tbody tr th {\n",
              "        vertical-align: top;\n",
              "    }\n",
              "\n",
              "    .dataframe thead th {\n",
              "        text-align: right;\n",
              "    }\n",
              "</style>\n",
              "<table border=\"1\" class=\"dataframe\">\n",
              "  <thead>\n",
              "    <tr style=\"text-align: right;\">\n",
              "      <th></th>\n",
              "      <th></th>\n",
              "      <th></th>\n",
              "      <th></th>\n",
              "      <th></th>\n",
              "      <th></th>\n",
              "      <th></th>\n",
              "      <th></th>\n",
              "      <th></th>\n",
              "      <th></th>\n",
              "      <th></th>\n",
              "      <th></th>\n",
              "      <th></th>\n",
              "      <th>Bejaia Region Dataset</th>\n",
              "    </tr>\n",
              "  </thead>\n",
              "  <tbody>\n",
              "    <tr>\n",
              "      <th>day</th>\n",
              "      <th>month</th>\n",
              "      <th>year</th>\n",
              "      <th>Temperature</th>\n",
              "      <th>RH</th>\n",
              "      <th>Ws</th>\n",
              "      <th>Rain</th>\n",
              "      <th>FFMC</th>\n",
              "      <th>DMC</th>\n",
              "      <th>DC</th>\n",
              "      <th>ISI</th>\n",
              "      <th>BUI</th>\n",
              "      <th>FWI</th>\n",
              "      <td>Classes</td>\n",
              "    </tr>\n",
              "    <tr>\n",
              "      <th>01</th>\n",
              "      <th>06</th>\n",
              "      <th>2012</th>\n",
              "      <th>29</th>\n",
              "      <th>57</th>\n",
              "      <th>18</th>\n",
              "      <th>0</th>\n",
              "      <th>65.7</th>\n",
              "      <th>3.4</th>\n",
              "      <th>7.6</th>\n",
              "      <th>1.3</th>\n",
              "      <th>3.4</th>\n",
              "      <th>0.5</th>\n",
              "      <td>not fire</td>\n",
              "    </tr>\n",
              "    <tr>\n",
              "      <th>02</th>\n",
              "      <th>06</th>\n",
              "      <th>2012</th>\n",
              "      <th>29</th>\n",
              "      <th>61</th>\n",
              "      <th>13</th>\n",
              "      <th>1.3</th>\n",
              "      <th>64.4</th>\n",
              "      <th>4.1</th>\n",
              "      <th>7.6</th>\n",
              "      <th>1</th>\n",
              "      <th>3.9</th>\n",
              "      <th>0.4</th>\n",
              "      <td>not fire</td>\n",
              "    </tr>\n",
              "    <tr>\n",
              "      <th>03</th>\n",
              "      <th>06</th>\n",
              "      <th>2012</th>\n",
              "      <th>26</th>\n",
              "      <th>82</th>\n",
              "      <th>22</th>\n",
              "      <th>13.1</th>\n",
              "      <th>47.1</th>\n",
              "      <th>2.5</th>\n",
              "      <th>7.1</th>\n",
              "      <th>0.3</th>\n",
              "      <th>2.7</th>\n",
              "      <th>0.1</th>\n",
              "      <td>not fire</td>\n",
              "    </tr>\n",
              "    <tr>\n",
              "      <th>04</th>\n",
              "      <th>06</th>\n",
              "      <th>2012</th>\n",
              "      <th>25</th>\n",
              "      <th>89</th>\n",
              "      <th>13</th>\n",
              "      <th>2.5</th>\n",
              "      <th>28.6</th>\n",
              "      <th>1.3</th>\n",
              "      <th>6.9</th>\n",
              "      <th>0</th>\n",
              "      <th>1.7</th>\n",
              "      <th>0</th>\n",
              "      <td>not fire</td>\n",
              "    </tr>\n",
              "  </tbody>\n",
              "</table>\n",
              "</div>\n",
              "      <button class=\"colab-df-convert\" onclick=\"convertToInteractive('df-e8d3ec07-34be-46ca-806f-e37993bd9147')\"\n",
              "              title=\"Convert this dataframe to an interactive table.\"\n",
              "              style=\"display:none;\">\n",
              "        \n",
              "  <svg xmlns=\"http://www.w3.org/2000/svg\" height=\"24px\"viewBox=\"0 0 24 24\"\n",
              "       width=\"24px\">\n",
              "    <path d=\"M0 0h24v24H0V0z\" fill=\"none\"/>\n",
              "    <path d=\"M18.56 5.44l.94 2.06.94-2.06 2.06-.94-2.06-.94-.94-2.06-.94 2.06-2.06.94zm-11 1L8.5 8.5l.94-2.06 2.06-.94-2.06-.94L8.5 2.5l-.94 2.06-2.06.94zm10 10l.94 2.06.94-2.06 2.06-.94-2.06-.94-.94-2.06-.94 2.06-2.06.94z\"/><path d=\"M17.41 7.96l-1.37-1.37c-.4-.4-.92-.59-1.43-.59-.52 0-1.04.2-1.43.59L10.3 9.45l-7.72 7.72c-.78.78-.78 2.05 0 2.83L4 21.41c.39.39.9.59 1.41.59.51 0 1.02-.2 1.41-.59l7.78-7.78 2.81-2.81c.8-.78.8-2.07 0-2.86zM5.41 20L4 18.59l7.72-7.72 1.47 1.35L5.41 20z\"/>\n",
              "  </svg>\n",
              "      </button>\n",
              "      \n",
              "  <style>\n",
              "    .colab-df-container {\n",
              "      display:flex;\n",
              "      flex-wrap:wrap;\n",
              "      gap: 12px;\n",
              "    }\n",
              "\n",
              "    .colab-df-convert {\n",
              "      background-color: #E8F0FE;\n",
              "      border: none;\n",
              "      border-radius: 50%;\n",
              "      cursor: pointer;\n",
              "      display: none;\n",
              "      fill: #1967D2;\n",
              "      height: 32px;\n",
              "      padding: 0 0 0 0;\n",
              "      width: 32px;\n",
              "    }\n",
              "\n",
              "    .colab-df-convert:hover {\n",
              "      background-color: #E2EBFA;\n",
              "      box-shadow: 0px 1px 2px rgba(60, 64, 67, 0.3), 0px 1px 3px 1px rgba(60, 64, 67, 0.15);\n",
              "      fill: #174EA6;\n",
              "    }\n",
              "\n",
              "    [theme=dark] .colab-df-convert {\n",
              "      background-color: #3B4455;\n",
              "      fill: #D2E3FC;\n",
              "    }\n",
              "\n",
              "    [theme=dark] .colab-df-convert:hover {\n",
              "      background-color: #434B5C;\n",
              "      box-shadow: 0px 1px 3px 1px rgba(0, 0, 0, 0.15);\n",
              "      filter: drop-shadow(0px 1px 2px rgba(0, 0, 0, 0.3));\n",
              "      fill: #FFFFFF;\n",
              "    }\n",
              "  </style>\n",
              "\n",
              "      <script>\n",
              "        const buttonEl =\n",
              "          document.querySelector('#df-e8d3ec07-34be-46ca-806f-e37993bd9147 button.colab-df-convert');\n",
              "        buttonEl.style.display =\n",
              "          google.colab.kernel.accessAllowed ? 'block' : 'none';\n",
              "\n",
              "        async function convertToInteractive(key) {\n",
              "          const element = document.querySelector('#df-e8d3ec07-34be-46ca-806f-e37993bd9147');\n",
              "          const dataTable =\n",
              "            await google.colab.kernel.invokeFunction('convertToInteractive',\n",
              "                                                     [key], {});\n",
              "          if (!dataTable) return;\n",
              "\n",
              "          const docLinkHtml = 'Like what you see? Visit the ' +\n",
              "            '<a target=\"_blank\" href=https://colab.research.google.com/notebooks/data_table.ipynb>data table notebook</a>'\n",
              "            + ' to learn more about interactive tables.';\n",
              "          element.innerHTML = '';\n",
              "          dataTable['output_type'] = 'display_data';\n",
              "          await google.colab.output.renderOutput(dataTable, element);\n",
              "          const docLink = document.createElement('div');\n",
              "          docLink.innerHTML = docLinkHtml;\n",
              "          element.appendChild(docLink);\n",
              "        }\n",
              "      </script>\n",
              "    </div>\n",
              "  </div>\n",
              "  "
            ]
          },
          "metadata": {},
          "execution_count": 45
        }
      ],
      "source": [
        "df = pd.read_csv(\"/content/drive/MyDrive/Algerian_forest_fires_dataset_UPDATE.csv\")\n",
        "df.head()"
      ]
    },
    {
      "cell_type": "code",
      "source": [
        "from google.colab import drive\n",
        "drive.mount('/content/drive')"
      ],
      "metadata": {
        "colab": {
          "base_uri": "https://localhost:8080/"
        },
        "id": "RmDnYyfKhUKi",
        "outputId": "0eb13f80-b68f-4210-bfda-25d0b1ff9c12"
      },
      "id": "RmDnYyfKhUKi",
      "execution_count": null,
      "outputs": [
        {
          "output_type": "stream",
          "name": "stdout",
          "text": [
            "Drive already mounted at /content/drive; to attempt to forcibly remount, call drive.mount(\"/content/drive\", force_remount=True).\n"
          ]
        }
      ]
    },
    {
      "cell_type": "markdown",
      "id": "753e8be8",
      "metadata": {
        "papermill": {
          "duration": 0.013409,
          "end_time": "2023-04-19T14:44:53.549679",
          "exception": false,
          "start_time": "2023-04-19T14:44:53.536270",
          "status": "completed"
        },
        "tags": [],
        "id": "753e8be8"
      },
      "source": [
        "### Summary of dataset"
      ]
    },
    {
      "cell_type": "code",
      "execution_count": null,
      "id": "e0af5c1d",
      "metadata": {
        "execution": {
          "iopub.execute_input": "2023-04-19T14:44:53.580411Z",
          "iopub.status.busy": "2023-04-19T14:44:53.579036Z",
          "iopub.status.idle": "2023-04-19T14:44:53.604305Z",
          "shell.execute_reply": "2023-04-19T14:44:53.602625Z"
        },
        "papermill": {
          "duration": 0.043025,
          "end_time": "2023-04-19T14:44:53.606974",
          "exception": false,
          "start_time": "2023-04-19T14:44:53.563949",
          "status": "completed"
        },
        "tags": [],
        "colab": {
          "base_uri": "https://localhost:8080/"
        },
        "id": "e0af5c1d",
        "outputId": "725b88cc-19f3-45c5-eaa1-be5473976b6d"
      },
      "outputs": [
        {
          "output_type": "stream",
          "name": "stdout",
          "text": [
            "<class 'pandas.core.frame.DataFrame'>\n",
            "MultiIndex: 247 entries, ('day', 'month', 'year', 'Temperature', ' RH', ' Ws', 'Rain ', 'FFMC', 'DMC', 'DC', 'ISI', 'BUI', 'FWI') to ('30', '09', '2012', '24', '64', '15', '0.2', '67.3', '3.8', '16.5', '1.2', '4.8', '0.5')\n",
            "Data columns (total 1 columns):\n",
            " #   Column                  Non-Null Count  Dtype \n",
            "---  ------                  --------------  ----- \n",
            " 0   Bejaia Region Dataset   245 non-null    object\n",
            "dtypes: object(1)\n",
            "memory usage: 49.3+ KB\n"
          ]
        }
      ],
      "source": [
        "df.info()"
      ]
    },
    {
      "cell_type": "code",
      "execution_count": null,
      "id": "4f9f94b4",
      "metadata": {
        "execution": {
          "iopub.execute_input": "2023-04-19T14:44:53.636804Z",
          "iopub.status.busy": "2023-04-19T14:44:53.635692Z",
          "iopub.status.idle": "2023-04-19T14:44:53.643460Z",
          "shell.execute_reply": "2023-04-19T14:44:53.642408Z"
        },
        "papermill": {
          "duration": 0.025014,
          "end_time": "2023-04-19T14:44:53.645673",
          "exception": false,
          "start_time": "2023-04-19T14:44:53.620659",
          "status": "completed"
        },
        "tags": [],
        "colab": {
          "base_uri": "https://localhost:8080/"
        },
        "id": "4f9f94b4",
        "outputId": "54264748-8ba0-424f-d401-a36a99042a07"
      },
      "outputs": [
        {
          "output_type": "execute_result",
          "data": {
            "text/plain": [
              "Index(['Bejaia Region Dataset '], dtype='object')"
            ]
          },
          "metadata": {},
          "execution_count": 48
        }
      ],
      "source": [
        "df.columns"
      ]
    },
    {
      "cell_type": "code",
      "execution_count": null,
      "id": "d3d4fc89",
      "metadata": {
        "execution": {
          "iopub.execute_input": "2023-04-19T14:44:53.677836Z",
          "iopub.status.busy": "2023-04-19T14:44:53.677419Z",
          "iopub.status.idle": "2023-04-19T14:44:53.689575Z",
          "shell.execute_reply": "2023-04-19T14:44:53.688433Z"
        },
        "papermill": {
          "duration": 0.029383,
          "end_time": "2023-04-19T14:44:53.691945",
          "exception": false,
          "start_time": "2023-04-19T14:44:53.662562",
          "status": "completed"
        },
        "tags": [],
        "colab": {
          "base_uri": "https://localhost:8080/"
        },
        "id": "d3d4fc89",
        "outputId": "ff94ccad-bf9c-4366-8861-1a68c000dd5c"
      },
      "outputs": [
        {
          "output_type": "execute_result",
          "data": {
            "text/plain": [
              "Bejaia Region Dataset     9\n",
              "dtype: int64"
            ]
          },
          "metadata": {},
          "execution_count": 49
        }
      ],
      "source": [
        "df.nunique()"
      ]
    },
    {
      "cell_type": "markdown",
      "id": "91108592",
      "metadata": {
        "papermill": {
          "duration": 0.013437,
          "end_time": "2023-04-19T14:44:53.718988",
          "exception": false,
          "start_time": "2023-04-19T14:44:53.705551",
          "status": "completed"
        },
        "tags": [],
        "id": "91108592"
      },
      "source": [
        "### Checking null values"
      ]
    },
    {
      "cell_type": "code",
      "execution_count": null,
      "id": "00fa8366",
      "metadata": {
        "execution": {
          "iopub.execute_input": "2023-04-19T14:44:53.837699Z",
          "iopub.status.busy": "2023-04-19T14:44:53.837070Z",
          "iopub.status.idle": "2023-04-19T14:44:53.849667Z",
          "shell.execute_reply": "2023-04-19T14:44:53.848273Z"
        },
        "papermill": {
          "duration": 0.029605,
          "end_time": "2023-04-19T14:44:53.851811",
          "exception": false,
          "start_time": "2023-04-19T14:44:53.822206",
          "status": "completed"
        },
        "tags": [],
        "id": "00fa8366",
        "outputId": "d328350c-5020-4634-d09d-f75b602be327",
        "colab": {
          "base_uri": "https://localhost:8080/"
        }
      },
      "outputs": [
        {
          "output_type": "stream",
          "name": "stdout",
          "text": [
            "<class 'pandas.core.frame.DataFrame'>\n",
            "MultiIndex: 247 entries, ('day', 'month', 'year', 'Temperature', ' RH', ' Ws', 'Rain ', 'FFMC', 'DMC', 'DC', 'ISI', 'BUI', 'FWI') to ('30', '09', '2012', '24', '64', '15', '0.2', '67.3', '3.8', '16.5', '1.2', '4.8', '0.5')\n",
            "Data columns (total 1 columns):\n",
            " #   Column                  Non-Null Count  Dtype \n",
            "---  ------                  --------------  ----- \n",
            " 0   Bejaia Region Dataset   245 non-null    object\n",
            "dtypes: object(1)\n",
            "memory usage: 49.3+ KB\n"
          ]
        }
      ],
      "source": [
        "df.info()"
      ]
    },
    {
      "cell_type": "code",
      "execution_count": null,
      "id": "a84fcfca",
      "metadata": {
        "execution": {
          "iopub.execute_input": "2023-04-19T14:44:53.799133Z",
          "iopub.status.busy": "2023-04-19T14:44:53.798720Z",
          "iopub.status.idle": "2023-04-19T14:44:53.805836Z",
          "shell.execute_reply": "2023-04-19T14:44:53.804582Z"
        },
        "papermill": {
          "duration": 0.024848,
          "end_time": "2023-04-19T14:44:53.807998",
          "exception": false,
          "start_time": "2023-04-19T14:44:53.783150",
          "status": "completed"
        },
        "tags": [],
        "colab": {
          "base_uri": "https://localhost:8080/"
        },
        "id": "a84fcfca",
        "outputId": "33453eab-1ccc-45cc-fcb2-c9937cfe7377"
      },
      "outputs": [
        {
          "output_type": "stream",
          "name": "stderr",
          "text": [
            "<ipython-input-51-705089dffd87>:1: FutureWarning: Slicing a positional slice with .loc is not supported, and will raise TypeError in a future version.  Use .loc with labels or .iloc with positions instead.\n",
            "  df.loc[:122,\"Region\"]=0\n",
            "<ipython-input-51-705089dffd87>:2: FutureWarning: Slicing a positional slice with .loc is not supported, and will raise TypeError in a future version.  Use .loc with labels or .iloc with positions instead.\n",
            "  df.loc[122:,\"Region\"]=1\n"
          ]
        }
      ],
      "source": [
        "df.loc[:122,\"Region\"]=0\n",
        "df.loc[122:,\"Region\"]=1\n",
        "df=df"
      ]
    },
    {
      "cell_type": "code",
      "execution_count": null,
      "id": "fdead3f6",
      "metadata": {
        "execution": {
          "iopub.execute_input": "2023-04-19T14:44:53.882688Z",
          "iopub.status.busy": "2023-04-19T14:44:53.882056Z",
          "iopub.status.idle": "2023-04-19T14:44:53.888503Z",
          "shell.execute_reply": "2023-04-19T14:44:53.887323Z"
        },
        "papermill": {
          "duration": 0.024507,
          "end_time": "2023-04-19T14:44:53.890920",
          "exception": false,
          "start_time": "2023-04-19T14:44:53.866413",
          "status": "completed"
        },
        "tags": [],
        "id": "fdead3f6"
      },
      "outputs": [],
      "source": [
        "df[['Region']]=df[['Region']].astype(int)"
      ]
    },
    {
      "cell_type": "code",
      "execution_count": null,
      "id": "e85bca72",
      "metadata": {
        "execution": {
          "iopub.execute_input": "2023-04-19T14:44:53.921132Z",
          "iopub.status.busy": "2023-04-19T14:44:53.920697Z",
          "iopub.status.idle": "2023-04-19T14:44:53.930319Z",
          "shell.execute_reply": "2023-04-19T14:44:53.929035Z"
        },
        "papermill": {
          "duration": 0.027556,
          "end_time": "2023-04-19T14:44:53.932675",
          "exception": false,
          "start_time": "2023-04-19T14:44:53.905119",
          "status": "completed"
        },
        "tags": [],
        "id": "e85bca72",
        "outputId": "94fc85db-b7ed-43b6-981e-8420f8f3772d",
        "colab": {
          "base_uri": "https://localhost:8080/"
        }
      },
      "outputs": [
        {
          "output_type": "execute_result",
          "data": {
            "text/plain": [
              "Bejaia Region Dataset     2\n",
              "Region                    0\n",
              "dtype: int64"
            ]
          },
          "metadata": {},
          "execution_count": 53
        }
      ],
      "source": [
        "df.isnull().sum()"
      ]
    },
    {
      "cell_type": "code",
      "execution_count": null,
      "id": "6bb05ed5",
      "metadata": {
        "execution": {
          "iopub.execute_input": "2023-04-19T14:44:53.962837Z",
          "iopub.status.busy": "2023-04-19T14:44:53.962445Z",
          "iopub.status.idle": "2023-04-19T14:44:53.971901Z",
          "shell.execute_reply": "2023-04-19T14:44:53.970471Z"
        },
        "papermill": {
          "duration": 0.027293,
          "end_time": "2023-04-19T14:44:53.974074",
          "exception": false,
          "start_time": "2023-04-19T14:44:53.946781",
          "status": "completed"
        },
        "tags": [],
        "id": "6bb05ed5"
      },
      "outputs": [],
      "source": [
        "## Removing the null values\n",
        "df=df.dropna().reset_index(drop=True)"
      ]
    },
    {
      "cell_type": "code",
      "execution_count": null,
      "id": "294e9aaa",
      "metadata": {
        "execution": {
          "iopub.execute_input": "2023-04-19T14:44:54.004690Z",
          "iopub.status.busy": "2023-04-19T14:44:54.004011Z",
          "iopub.status.idle": "2023-04-19T14:44:54.013409Z",
          "shell.execute_reply": "2023-04-19T14:44:54.012416Z"
        },
        "papermill": {
          "duration": 0.027266,
          "end_time": "2023-04-19T14:44:54.015540",
          "exception": false,
          "start_time": "2023-04-19T14:44:53.988274",
          "status": "completed"
        },
        "tags": [],
        "id": "294e9aaa",
        "outputId": "9a181db2-a7f2-4b5b-9e48-bcad220fc0d7",
        "colab": {
          "base_uri": "https://localhost:8080/"
        }
      },
      "outputs": [
        {
          "output_type": "execute_result",
          "data": {
            "text/plain": [
              "Bejaia Region Dataset     0\n",
              "Region                    0\n",
              "dtype: int64"
            ]
          },
          "metadata": {},
          "execution_count": 55
        }
      ],
      "source": [
        "df.isnull().sum()\n"
      ]
    },
    {
      "cell_type": "code",
      "execution_count": null,
      "id": "9fbb659d",
      "metadata": {
        "execution": {
          "iopub.execute_input": "2023-04-19T14:44:54.045980Z",
          "iopub.status.busy": "2023-04-19T14:44:54.045294Z",
          "iopub.status.idle": "2023-04-19T14:44:54.062078Z",
          "shell.execute_reply": "2023-04-19T14:44:54.060827Z"
        },
        "papermill": {
          "duration": 0.034644,
          "end_time": "2023-04-19T14:44:54.064332",
          "exception": false,
          "start_time": "2023-04-19T14:44:54.029688",
          "status": "completed"
        },
        "tags": [],
        "id": "9fbb659d",
        "outputId": "940bce15-ad5d-49d2-f17a-785fd5b42e80",
        "colab": {
          "base_uri": "https://localhost:8080/",
          "height": 80
        }
      },
      "outputs": [
        {
          "output_type": "execute_result",
          "data": {
            "text/plain": [
              "    Bejaia Region Dataset   Region\n",
              "122            not fire          1"
            ],
            "text/html": [
              "\n",
              "  <div id=\"df-7e720ed6-91de-41e3-b59e-197a0d3f2ec3\">\n",
              "    <div class=\"colab-df-container\">\n",
              "      <div>\n",
              "<style scoped>\n",
              "    .dataframe tbody tr th:only-of-type {\n",
              "        vertical-align: middle;\n",
              "    }\n",
              "\n",
              "    .dataframe tbody tr th {\n",
              "        vertical-align: top;\n",
              "    }\n",
              "\n",
              "    .dataframe thead th {\n",
              "        text-align: right;\n",
              "    }\n",
              "</style>\n",
              "<table border=\"1\" class=\"dataframe\">\n",
              "  <thead>\n",
              "    <tr style=\"text-align: right;\">\n",
              "      <th></th>\n",
              "      <th>Bejaia Region Dataset</th>\n",
              "      <th>Region</th>\n",
              "    </tr>\n",
              "  </thead>\n",
              "  <tbody>\n",
              "    <tr>\n",
              "      <th>122</th>\n",
              "      <td>not fire</td>\n",
              "      <td>1</td>\n",
              "    </tr>\n",
              "  </tbody>\n",
              "</table>\n",
              "</div>\n",
              "      <button class=\"colab-df-convert\" onclick=\"convertToInteractive('df-7e720ed6-91de-41e3-b59e-197a0d3f2ec3')\"\n",
              "              title=\"Convert this dataframe to an interactive table.\"\n",
              "              style=\"display:none;\">\n",
              "        \n",
              "  <svg xmlns=\"http://www.w3.org/2000/svg\" height=\"24px\"viewBox=\"0 0 24 24\"\n",
              "       width=\"24px\">\n",
              "    <path d=\"M0 0h24v24H0V0z\" fill=\"none\"/>\n",
              "    <path d=\"M18.56 5.44l.94 2.06.94-2.06 2.06-.94-2.06-.94-.94-2.06-.94 2.06-2.06.94zm-11 1L8.5 8.5l.94-2.06 2.06-.94-2.06-.94L8.5 2.5l-.94 2.06-2.06.94zm10 10l.94 2.06.94-2.06 2.06-.94-2.06-.94-.94-2.06-.94 2.06-2.06.94z\"/><path d=\"M17.41 7.96l-1.37-1.37c-.4-.4-.92-.59-1.43-.59-.52 0-1.04.2-1.43.59L10.3 9.45l-7.72 7.72c-.78.78-.78 2.05 0 2.83L4 21.41c.39.39.9.59 1.41.59.51 0 1.02-.2 1.41-.59l7.78-7.78 2.81-2.81c.8-.78.8-2.07 0-2.86zM5.41 20L4 18.59l7.72-7.72 1.47 1.35L5.41 20z\"/>\n",
              "  </svg>\n",
              "      </button>\n",
              "      \n",
              "  <style>\n",
              "    .colab-df-container {\n",
              "      display:flex;\n",
              "      flex-wrap:wrap;\n",
              "      gap: 12px;\n",
              "    }\n",
              "\n",
              "    .colab-df-convert {\n",
              "      background-color: #E8F0FE;\n",
              "      border: none;\n",
              "      border-radius: 50%;\n",
              "      cursor: pointer;\n",
              "      display: none;\n",
              "      fill: #1967D2;\n",
              "      height: 32px;\n",
              "      padding: 0 0 0 0;\n",
              "      width: 32px;\n",
              "    }\n",
              "\n",
              "    .colab-df-convert:hover {\n",
              "      background-color: #E2EBFA;\n",
              "      box-shadow: 0px 1px 2px rgba(60, 64, 67, 0.3), 0px 1px 3px 1px rgba(60, 64, 67, 0.15);\n",
              "      fill: #174EA6;\n",
              "    }\n",
              "\n",
              "    [theme=dark] .colab-df-convert {\n",
              "      background-color: #3B4455;\n",
              "      fill: #D2E3FC;\n",
              "    }\n",
              "\n",
              "    [theme=dark] .colab-df-convert:hover {\n",
              "      background-color: #434B5C;\n",
              "      box-shadow: 0px 1px 3px 1px rgba(0, 0, 0, 0.15);\n",
              "      filter: drop-shadow(0px 1px 2px rgba(0, 0, 0, 0.3));\n",
              "      fill: #FFFFFF;\n",
              "    }\n",
              "  </style>\n",
              "\n",
              "      <script>\n",
              "        const buttonEl =\n",
              "          document.querySelector('#df-7e720ed6-91de-41e3-b59e-197a0d3f2ec3 button.colab-df-convert');\n",
              "        buttonEl.style.display =\n",
              "          google.colab.kernel.accessAllowed ? 'block' : 'none';\n",
              "\n",
              "        async function convertToInteractive(key) {\n",
              "          const element = document.querySelector('#df-7e720ed6-91de-41e3-b59e-197a0d3f2ec3');\n",
              "          const dataTable =\n",
              "            await google.colab.kernel.invokeFunction('convertToInteractive',\n",
              "                                                     [key], {});\n",
              "          if (!dataTable) return;\n",
              "\n",
              "          const docLinkHtml = 'Like what you see? Visit the ' +\n",
              "            '<a target=\"_blank\" href=https://colab.research.google.com/notebooks/data_table.ipynb>data table notebook</a>'\n",
              "            + ' to learn more about interactive tables.';\n",
              "          element.innerHTML = '';\n",
              "          dataTable['output_type'] = 'display_data';\n",
              "          await google.colab.output.renderOutput(dataTable, element);\n",
              "          const docLink = document.createElement('div');\n",
              "          docLink.innerHTML = docLinkHtml;\n",
              "          element.appendChild(docLink);\n",
              "        }\n",
              "      </script>\n",
              "    </div>\n",
              "  </div>\n",
              "  "
            ]
          },
          "metadata": {},
          "execution_count": 56
        }
      ],
      "source": [
        "df.iloc[[122]]"
      ]
    },
    {
      "cell_type": "code",
      "execution_count": null,
      "id": "85466514",
      "metadata": {
        "execution": {
          "iopub.execute_input": "2023-04-19T14:44:54.095650Z",
          "iopub.status.busy": "2023-04-19T14:44:54.094990Z",
          "iopub.status.idle": "2023-04-19T14:44:54.100880Z",
          "shell.execute_reply": "2023-04-19T14:44:54.100071Z"
        },
        "papermill": {
          "duration": 0.024178,
          "end_time": "2023-04-19T14:44:54.103095",
          "exception": false,
          "start_time": "2023-04-19T14:44:54.078917",
          "status": "completed"
        },
        "tags": [],
        "id": "85466514"
      },
      "outputs": [],
      "source": [
        "##remove the 122nd row\n",
        "df=df.drop(122).reset_index(drop=True)"
      ]
    },
    {
      "cell_type": "code",
      "execution_count": null,
      "id": "d4f5b4af",
      "metadata": {
        "execution": {
          "iopub.execute_input": "2023-04-19T14:44:54.133961Z",
          "iopub.status.busy": "2023-04-19T14:44:54.133233Z",
          "iopub.status.idle": "2023-04-19T14:44:54.150326Z",
          "shell.execute_reply": "2023-04-19T14:44:54.149015Z"
        },
        "papermill": {
          "duration": 0.035203,
          "end_time": "2023-04-19T14:44:54.152581",
          "exception": false,
          "start_time": "2023-04-19T14:44:54.117378",
          "status": "completed"
        },
        "tags": [],
        "id": "d4f5b4af",
        "outputId": "f2983ae0-02e1-48a2-f63d-b1af4d6fc191",
        "colab": {
          "base_uri": "https://localhost:8080/",
          "height": 80
        }
      },
      "outputs": [
        {
          "output_type": "execute_result",
          "data": {
            "text/plain": [
              "    Bejaia Region Dataset   Region\n",
              "122              Classes         1"
            ],
            "text/html": [
              "\n",
              "  <div id=\"df-7a79dc05-c7a9-4592-84c6-457d755451b4\">\n",
              "    <div class=\"colab-df-container\">\n",
              "      <div>\n",
              "<style scoped>\n",
              "    .dataframe tbody tr th:only-of-type {\n",
              "        vertical-align: middle;\n",
              "    }\n",
              "\n",
              "    .dataframe tbody tr th {\n",
              "        vertical-align: top;\n",
              "    }\n",
              "\n",
              "    .dataframe thead th {\n",
              "        text-align: right;\n",
              "    }\n",
              "</style>\n",
              "<table border=\"1\" class=\"dataframe\">\n",
              "  <thead>\n",
              "    <tr style=\"text-align: right;\">\n",
              "      <th></th>\n",
              "      <th>Bejaia Region Dataset</th>\n",
              "      <th>Region</th>\n",
              "    </tr>\n",
              "  </thead>\n",
              "  <tbody>\n",
              "    <tr>\n",
              "      <th>122</th>\n",
              "      <td>Classes</td>\n",
              "      <td>1</td>\n",
              "    </tr>\n",
              "  </tbody>\n",
              "</table>\n",
              "</div>\n",
              "      <button class=\"colab-df-convert\" onclick=\"convertToInteractive('df-7a79dc05-c7a9-4592-84c6-457d755451b4')\"\n",
              "              title=\"Convert this dataframe to an interactive table.\"\n",
              "              style=\"display:none;\">\n",
              "        \n",
              "  <svg xmlns=\"http://www.w3.org/2000/svg\" height=\"24px\"viewBox=\"0 0 24 24\"\n",
              "       width=\"24px\">\n",
              "    <path d=\"M0 0h24v24H0V0z\" fill=\"none\"/>\n",
              "    <path d=\"M18.56 5.44l.94 2.06.94-2.06 2.06-.94-2.06-.94-.94-2.06-.94 2.06-2.06.94zm-11 1L8.5 8.5l.94-2.06 2.06-.94-2.06-.94L8.5 2.5l-.94 2.06-2.06.94zm10 10l.94 2.06.94-2.06 2.06-.94-2.06-.94-.94-2.06-.94 2.06-2.06.94z\"/><path d=\"M17.41 7.96l-1.37-1.37c-.4-.4-.92-.59-1.43-.59-.52 0-1.04.2-1.43.59L10.3 9.45l-7.72 7.72c-.78.78-.78 2.05 0 2.83L4 21.41c.39.39.9.59 1.41.59.51 0 1.02-.2 1.41-.59l7.78-7.78 2.81-2.81c.8-.78.8-2.07 0-2.86zM5.41 20L4 18.59l7.72-7.72 1.47 1.35L5.41 20z\"/>\n",
              "  </svg>\n",
              "      </button>\n",
              "      \n",
              "  <style>\n",
              "    .colab-df-container {\n",
              "      display:flex;\n",
              "      flex-wrap:wrap;\n",
              "      gap: 12px;\n",
              "    }\n",
              "\n",
              "    .colab-df-convert {\n",
              "      background-color: #E8F0FE;\n",
              "      border: none;\n",
              "      border-radius: 50%;\n",
              "      cursor: pointer;\n",
              "      display: none;\n",
              "      fill: #1967D2;\n",
              "      height: 32px;\n",
              "      padding: 0 0 0 0;\n",
              "      width: 32px;\n",
              "    }\n",
              "\n",
              "    .colab-df-convert:hover {\n",
              "      background-color: #E2EBFA;\n",
              "      box-shadow: 0px 1px 2px rgba(60, 64, 67, 0.3), 0px 1px 3px 1px rgba(60, 64, 67, 0.15);\n",
              "      fill: #174EA6;\n",
              "    }\n",
              "\n",
              "    [theme=dark] .colab-df-convert {\n",
              "      background-color: #3B4455;\n",
              "      fill: #D2E3FC;\n",
              "    }\n",
              "\n",
              "    [theme=dark] .colab-df-convert:hover {\n",
              "      background-color: #434B5C;\n",
              "      box-shadow: 0px 1px 3px 1px rgba(0, 0, 0, 0.15);\n",
              "      filter: drop-shadow(0px 1px 2px rgba(0, 0, 0, 0.3));\n",
              "      fill: #FFFFFF;\n",
              "    }\n",
              "  </style>\n",
              "\n",
              "      <script>\n",
              "        const buttonEl =\n",
              "          document.querySelector('#df-7a79dc05-c7a9-4592-84c6-457d755451b4 button.colab-df-convert');\n",
              "        buttonEl.style.display =\n",
              "          google.colab.kernel.accessAllowed ? 'block' : 'none';\n",
              "\n",
              "        async function convertToInteractive(key) {\n",
              "          const element = document.querySelector('#df-7a79dc05-c7a9-4592-84c6-457d755451b4');\n",
              "          const dataTable =\n",
              "            await google.colab.kernel.invokeFunction('convertToInteractive',\n",
              "                                                     [key], {});\n",
              "          if (!dataTable) return;\n",
              "\n",
              "          const docLinkHtml = 'Like what you see? Visit the ' +\n",
              "            '<a target=\"_blank\" href=https://colab.research.google.com/notebooks/data_table.ipynb>data table notebook</a>'\n",
              "            + ' to learn more about interactive tables.';\n",
              "          element.innerHTML = '';\n",
              "          dataTable['output_type'] = 'display_data';\n",
              "          await google.colab.output.renderOutput(dataTable, element);\n",
              "          const docLink = document.createElement('div');\n",
              "          docLink.innerHTML = docLinkHtml;\n",
              "          element.appendChild(docLink);\n",
              "        }\n",
              "      </script>\n",
              "    </div>\n",
              "  </div>\n",
              "  "
            ]
          },
          "metadata": {},
          "execution_count": 58
        }
      ],
      "source": [
        "df.iloc[[122]]"
      ]
    },
    {
      "cell_type": "code",
      "execution_count": null,
      "id": "b7dc0094",
      "metadata": {
        "execution": {
          "iopub.execute_input": "2023-04-19T14:44:54.184045Z",
          "iopub.status.busy": "2023-04-19T14:44:54.183273Z",
          "iopub.status.idle": "2023-04-19T14:44:54.190510Z",
          "shell.execute_reply": "2023-04-19T14:44:54.189577Z"
        },
        "papermill": {
          "duration": 0.025586,
          "end_time": "2023-04-19T14:44:54.192778",
          "exception": false,
          "start_time": "2023-04-19T14:44:54.167192",
          "status": "completed"
        },
        "tags": [],
        "id": "b7dc0094",
        "outputId": "4117fef0-8914-4a98-94a7-d1e34d327f2a",
        "colab": {
          "base_uri": "https://localhost:8080/"
        }
      },
      "outputs": [
        {
          "output_type": "execute_result",
          "data": {
            "text/plain": [
              "Index(['Bejaia Region Dataset ', 'Region'], dtype='object')"
            ]
          },
          "metadata": {},
          "execution_count": 59
        }
      ],
      "source": [
        "df.columns"
      ]
    },
    {
      "cell_type": "code",
      "execution_count": null,
      "id": "9d5f4710",
      "metadata": {
        "execution": {
          "iopub.execute_input": "2023-04-19T14:44:54.224423Z",
          "iopub.status.busy": "2023-04-19T14:44:54.223711Z",
          "iopub.status.idle": "2023-04-19T14:44:54.231808Z",
          "shell.execute_reply": "2023-04-19T14:44:54.230795Z"
        },
        "papermill": {
          "duration": 0.026566,
          "end_time": "2023-04-19T14:44:54.234115",
          "exception": false,
          "start_time": "2023-04-19T14:44:54.207549",
          "status": "completed"
        },
        "tags": [],
        "id": "9d5f4710",
        "outputId": "1f03a19b-9373-42e0-9a87-565e60fad04e",
        "colab": {
          "base_uri": "https://localhost:8080/"
        }
      },
      "outputs": [
        {
          "output_type": "execute_result",
          "data": {
            "text/plain": [
              "Index(['Bejaia Region Dataset', 'Region'], dtype='object')"
            ]
          },
          "metadata": {},
          "execution_count": 60
        }
      ],
      "source": [
        "## fix spaces in columns names\n",
        "df.columns=df.columns.str.strip()\n",
        "df.columns"
      ]
    },
    {
      "cell_type": "code",
      "execution_count": null,
      "id": "fd5d3c14",
      "metadata": {
        "execution": {
          "iopub.execute_input": "2023-04-19T14:44:54.265576Z",
          "iopub.status.busy": "2023-04-19T14:44:54.265196Z",
          "iopub.status.idle": "2023-04-19T14:44:54.273700Z",
          "shell.execute_reply": "2023-04-19T14:44:54.272597Z"
        },
        "papermill": {
          "duration": 0.027068,
          "end_time": "2023-04-19T14:44:54.276036",
          "exception": false,
          "start_time": "2023-04-19T14:44:54.248968",
          "status": "completed"
        },
        "tags": [],
        "id": "fd5d3c14",
        "outputId": "f74386e3-e319-4566-8e60-60fc068bec71",
        "colab": {
          "base_uri": "https://localhost:8080/",
          "height": 311
        }
      },
      "outputs": [
        {
          "output_type": "error",
          "ename": "KeyError",
          "evalue": "ignored",
          "traceback": [
            "\u001b[0;31m---------------------------------------------------------------------------\u001b[0m",
            "\u001b[0;31mKeyError\u001b[0m                                  Traceback (most recent call last)",
            "\u001b[0;32m<ipython-input-61-8571c5ed65d3>\u001b[0m in \u001b[0;36m<cell line: 1>\u001b[0;34m()\u001b[0m\n\u001b[0;32m----> 1\u001b[0;31m \u001b[0mdf\u001b[0m\u001b[0;34m[\u001b[0m\u001b[0;34m[\u001b[0m\u001b[0;34m'month'\u001b[0m\u001b[0;34m,\u001b[0m \u001b[0;34m'day'\u001b[0m\u001b[0;34m,\u001b[0m \u001b[0;34m'year'\u001b[0m\u001b[0;34m,\u001b[0m \u001b[0;34m'Temperature'\u001b[0m\u001b[0;34m,\u001b[0m \u001b[0;34m'RH'\u001b[0m\u001b[0;34m,\u001b[0m \u001b[0;34m'Ws'\u001b[0m\u001b[0;34m]\u001b[0m\u001b[0;34m]\u001b[0m \u001b[0;34m=\u001b[0m \u001b[0mdf\u001b[0m\u001b[0;34m[\u001b[0m\u001b[0;34m[\u001b[0m\u001b[0;34m'month'\u001b[0m\u001b[0;34m,\u001b[0m \u001b[0;34m'day'\u001b[0m\u001b[0;34m,\u001b[0m \u001b[0;34m'year'\u001b[0m\u001b[0;34m,\u001b[0m \u001b[0;34m'Temperature'\u001b[0m\u001b[0;34m,\u001b[0m \u001b[0;34m'RH'\u001b[0m\u001b[0;34m,\u001b[0m \u001b[0;34m'Ws'\u001b[0m\u001b[0;34m]\u001b[0m\u001b[0;34m]\u001b[0m\u001b[0;34m.\u001b[0m\u001b[0mastype\u001b[0m\u001b[0;34m(\u001b[0m\u001b[0mint\u001b[0m\u001b[0;34m)\u001b[0m\u001b[0;34m\u001b[0m\u001b[0;34m\u001b[0m\u001b[0m\n\u001b[0m",
            "\u001b[0;32m/usr/local/lib/python3.10/dist-packages/pandas/core/frame.py\u001b[0m in \u001b[0;36m__getitem__\u001b[0;34m(self, key)\u001b[0m\n\u001b[1;32m   3811\u001b[0m             \u001b[0;32mif\u001b[0m \u001b[0mis_iterator\u001b[0m\u001b[0;34m(\u001b[0m\u001b[0mkey\u001b[0m\u001b[0;34m)\u001b[0m\u001b[0;34m:\u001b[0m\u001b[0;34m\u001b[0m\u001b[0;34m\u001b[0m\u001b[0m\n\u001b[1;32m   3812\u001b[0m                 \u001b[0mkey\u001b[0m \u001b[0;34m=\u001b[0m \u001b[0mlist\u001b[0m\u001b[0;34m(\u001b[0m\u001b[0mkey\u001b[0m\u001b[0;34m)\u001b[0m\u001b[0;34m\u001b[0m\u001b[0;34m\u001b[0m\u001b[0m\n\u001b[0;32m-> 3813\u001b[0;31m             \u001b[0mindexer\u001b[0m \u001b[0;34m=\u001b[0m \u001b[0mself\u001b[0m\u001b[0;34m.\u001b[0m\u001b[0mcolumns\u001b[0m\u001b[0;34m.\u001b[0m\u001b[0m_get_indexer_strict\u001b[0m\u001b[0;34m(\u001b[0m\u001b[0mkey\u001b[0m\u001b[0;34m,\u001b[0m \u001b[0;34m\"columns\"\u001b[0m\u001b[0;34m)\u001b[0m\u001b[0;34m[\u001b[0m\u001b[0;36m1\u001b[0m\u001b[0;34m]\u001b[0m\u001b[0;34m\u001b[0m\u001b[0;34m\u001b[0m\u001b[0m\n\u001b[0m\u001b[1;32m   3814\u001b[0m \u001b[0;34m\u001b[0m\u001b[0m\n\u001b[1;32m   3815\u001b[0m         \u001b[0;31m# take() does not accept boolean indexers\u001b[0m\u001b[0;34m\u001b[0m\u001b[0;34m\u001b[0m\u001b[0m\n",
            "\u001b[0;32m/usr/local/lib/python3.10/dist-packages/pandas/core/indexes/base.py\u001b[0m in \u001b[0;36m_get_indexer_strict\u001b[0;34m(self, key, axis_name)\u001b[0m\n\u001b[1;32m   6068\u001b[0m             \u001b[0mkeyarr\u001b[0m\u001b[0;34m,\u001b[0m \u001b[0mindexer\u001b[0m\u001b[0;34m,\u001b[0m \u001b[0mnew_indexer\u001b[0m \u001b[0;34m=\u001b[0m \u001b[0mself\u001b[0m\u001b[0;34m.\u001b[0m\u001b[0m_reindex_non_unique\u001b[0m\u001b[0;34m(\u001b[0m\u001b[0mkeyarr\u001b[0m\u001b[0;34m)\u001b[0m\u001b[0;34m\u001b[0m\u001b[0;34m\u001b[0m\u001b[0m\n\u001b[1;32m   6069\u001b[0m \u001b[0;34m\u001b[0m\u001b[0m\n\u001b[0;32m-> 6070\u001b[0;31m         \u001b[0mself\u001b[0m\u001b[0;34m.\u001b[0m\u001b[0m_raise_if_missing\u001b[0m\u001b[0;34m(\u001b[0m\u001b[0mkeyarr\u001b[0m\u001b[0;34m,\u001b[0m \u001b[0mindexer\u001b[0m\u001b[0;34m,\u001b[0m \u001b[0maxis_name\u001b[0m\u001b[0;34m)\u001b[0m\u001b[0;34m\u001b[0m\u001b[0;34m\u001b[0m\u001b[0m\n\u001b[0m\u001b[1;32m   6071\u001b[0m \u001b[0;34m\u001b[0m\u001b[0m\n\u001b[1;32m   6072\u001b[0m         \u001b[0mkeyarr\u001b[0m \u001b[0;34m=\u001b[0m \u001b[0mself\u001b[0m\u001b[0;34m.\u001b[0m\u001b[0mtake\u001b[0m\u001b[0;34m(\u001b[0m\u001b[0mindexer\u001b[0m\u001b[0;34m)\u001b[0m\u001b[0;34m\u001b[0m\u001b[0;34m\u001b[0m\u001b[0m\n",
            "\u001b[0;32m/usr/local/lib/python3.10/dist-packages/pandas/core/indexes/base.py\u001b[0m in \u001b[0;36m_raise_if_missing\u001b[0;34m(self, key, indexer, axis_name)\u001b[0m\n\u001b[1;32m   6128\u001b[0m                 \u001b[0;32mif\u001b[0m \u001b[0muse_interval_msg\u001b[0m\u001b[0;34m:\u001b[0m\u001b[0;34m\u001b[0m\u001b[0;34m\u001b[0m\u001b[0m\n\u001b[1;32m   6129\u001b[0m                     \u001b[0mkey\u001b[0m \u001b[0;34m=\u001b[0m \u001b[0mlist\u001b[0m\u001b[0;34m(\u001b[0m\u001b[0mkey\u001b[0m\u001b[0;34m)\u001b[0m\u001b[0;34m\u001b[0m\u001b[0;34m\u001b[0m\u001b[0m\n\u001b[0;32m-> 6130\u001b[0;31m                 \u001b[0;32mraise\u001b[0m \u001b[0mKeyError\u001b[0m\u001b[0;34m(\u001b[0m\u001b[0;34mf\"None of [{key}] are in the [{axis_name}]\"\u001b[0m\u001b[0;34m)\u001b[0m\u001b[0;34m\u001b[0m\u001b[0;34m\u001b[0m\u001b[0m\n\u001b[0m\u001b[1;32m   6131\u001b[0m \u001b[0;34m\u001b[0m\u001b[0m\n\u001b[1;32m   6132\u001b[0m             \u001b[0mnot_found\u001b[0m \u001b[0;34m=\u001b[0m \u001b[0mlist\u001b[0m\u001b[0;34m(\u001b[0m\u001b[0mensure_index\u001b[0m\u001b[0;34m(\u001b[0m\u001b[0mkey\u001b[0m\u001b[0;34m)\u001b[0m\u001b[0;34m[\u001b[0m\u001b[0mmissing_mask\u001b[0m\u001b[0;34m.\u001b[0m\u001b[0mnonzero\u001b[0m\u001b[0;34m(\u001b[0m\u001b[0;34m)\u001b[0m\u001b[0;34m[\u001b[0m\u001b[0;36m0\u001b[0m\u001b[0;34m]\u001b[0m\u001b[0;34m]\u001b[0m\u001b[0;34m.\u001b[0m\u001b[0munique\u001b[0m\u001b[0;34m(\u001b[0m\u001b[0;34m)\u001b[0m\u001b[0;34m)\u001b[0m\u001b[0;34m\u001b[0m\u001b[0;34m\u001b[0m\u001b[0m\n",
            "\u001b[0;31mKeyError\u001b[0m: \"None of [Index(['month', 'day', 'year', 'Temperature', 'RH', 'Ws'], dtype='object')] are in the [columns]\""
          ]
        }
      ],
      "source": [
        "\n",
        "df[['month', 'day', 'year', 'Temperature', 'RH', 'Ws']] = df[['month', 'day', 'year', 'Temperature', 'RH', 'Ws']].astype(int)"
      ]
    },
    {
      "cell_type": "code",
      "execution_count": null,
      "id": "c121c38a",
      "metadata": {
        "execution": {
          "iopub.execute_input": "2023-04-19T14:44:54.307707Z",
          "iopub.status.busy": "2023-04-19T14:44:54.307312Z",
          "iopub.status.idle": "2023-04-19T14:44:54.322460Z",
          "shell.execute_reply": "2023-04-19T14:44:54.320737Z"
        },
        "papermill": {
          "duration": 0.034009,
          "end_time": "2023-04-19T14:44:54.324936",
          "exception": false,
          "start_time": "2023-04-19T14:44:54.290927",
          "status": "completed"
        },
        "tags": [],
        "id": "c121c38a"
      },
      "outputs": [],
      "source": [
        "df.info()"
      ]
    },
    {
      "cell_type": "code",
      "execution_count": null,
      "id": "873b04fb",
      "metadata": {
        "execution": {
          "iopub.execute_input": "2023-04-19T14:44:54.359047Z",
          "iopub.status.busy": "2023-04-19T14:44:54.357825Z",
          "iopub.status.idle": "2023-04-19T14:44:54.363339Z",
          "shell.execute_reply": "2023-04-19T14:44:54.362492Z"
        },
        "papermill": {
          "duration": 0.023829,
          "end_time": "2023-04-19T14:44:54.365455",
          "exception": false,
          "start_time": "2023-04-19T14:44:54.341626",
          "status": "completed"
        },
        "tags": [],
        "id": "873b04fb"
      },
      "outputs": [],
      "source": [
        "objects=[features for features in df.columns if df[features].dtypes=='O']"
      ]
    },
    {
      "cell_type": "code",
      "execution_count": null,
      "id": "b031ea57",
      "metadata": {
        "execution": {
          "iopub.execute_input": "2023-04-19T14:44:54.397266Z",
          "iopub.status.busy": "2023-04-19T14:44:54.396829Z",
          "iopub.status.idle": "2023-04-19T14:44:54.405746Z",
          "shell.execute_reply": "2023-04-19T14:44:54.404593Z"
        },
        "papermill": {
          "duration": 0.027425,
          "end_time": "2023-04-19T14:44:54.408020",
          "exception": false,
          "start_time": "2023-04-19T14:44:54.380595",
          "status": "completed"
        },
        "tags": [],
        "id": "b031ea57"
      },
      "outputs": [],
      "source": [
        "for i in objects:\n",
        "    if i!='Classes':\n",
        "        df[i]=df[i].astype(float)"
      ]
    },
    {
      "cell_type": "code",
      "execution_count": null,
      "id": "9f41cafa",
      "metadata": {
        "execution": {
          "iopub.execute_input": "2023-04-19T14:44:54.440135Z",
          "iopub.status.busy": "2023-04-19T14:44:54.439274Z",
          "iopub.status.idle": "2023-04-19T14:44:54.455387Z",
          "shell.execute_reply": "2023-04-19T14:44:54.453917Z"
        },
        "papermill": {
          "duration": 0.034564,
          "end_time": "2023-04-19T14:44:54.457632",
          "exception": false,
          "start_time": "2023-04-19T14:44:54.423068",
          "status": "completed"
        },
        "tags": [],
        "id": "9f41cafa"
      },
      "outputs": [],
      "source": [
        "df.info()"
      ]
    },
    {
      "cell_type": "code",
      "execution_count": null,
      "id": "428aeb11",
      "metadata": {
        "execution": {
          "iopub.execute_input": "2023-04-19T14:44:54.490410Z",
          "iopub.status.busy": "2023-04-19T14:44:54.490026Z",
          "iopub.status.idle": "2023-04-19T14:44:54.545061Z",
          "shell.execute_reply": "2023-04-19T14:44:54.543952Z"
        },
        "papermill": {
          "duration": 0.074754,
          "end_time": "2023-04-19T14:44:54.547430",
          "exception": false,
          "start_time": "2023-04-19T14:44:54.472676",
          "status": "completed"
        },
        "tags": [],
        "id": "428aeb11"
      },
      "outputs": [],
      "source": [
        "df.describe()"
      ]
    },
    {
      "cell_type": "code",
      "execution_count": null,
      "id": "92751672",
      "metadata": {
        "execution": {
          "iopub.execute_input": "2023-04-19T14:44:54.580314Z",
          "iopub.status.busy": "2023-04-19T14:44:54.579921Z",
          "iopub.status.idle": "2023-04-19T14:44:54.585909Z",
          "shell.execute_reply": "2023-04-19T14:44:54.584756Z"
        },
        "papermill": {
          "duration": 0.025161,
          "end_time": "2023-04-19T14:44:54.588191",
          "exception": false,
          "start_time": "2023-04-19T14:44:54.563030",
          "status": "completed"
        },
        "tags": [],
        "id": "92751672"
      },
      "outputs": [],
      "source": [
        "df.drop(['day','month','year'],axis=1,inplace =True)"
      ]
    },
    {
      "cell_type": "code",
      "execution_count": null,
      "id": "4ecdb128",
      "metadata": {
        "execution": {
          "iopub.execute_input": "2023-04-19T14:44:54.620580Z",
          "iopub.status.busy": "2023-04-19T14:44:54.620189Z",
          "iopub.status.idle": "2023-04-19T14:44:54.638169Z",
          "shell.execute_reply": "2023-04-19T14:44:54.637086Z"
        },
        "papermill": {
          "duration": 0.037015,
          "end_time": "2023-04-19T14:44:54.640427",
          "exception": false,
          "start_time": "2023-04-19T14:44:54.603412",
          "status": "completed"
        },
        "tags": [],
        "id": "4ecdb128"
      },
      "outputs": [],
      "source": [
        "df.head()"
      ]
    },
    {
      "cell_type": "code",
      "execution_count": null,
      "id": "2ad5792c",
      "metadata": {
        "execution": {
          "iopub.execute_input": "2023-04-19T14:44:54.673807Z",
          "iopub.status.busy": "2023-04-19T14:44:54.673411Z",
          "iopub.status.idle": "2023-04-19T14:44:54.681601Z",
          "shell.execute_reply": "2023-04-19T14:44:54.680616Z"
        },
        "papermill": {
          "duration": 0.027458,
          "end_time": "2023-04-19T14:44:54.683850",
          "exception": false,
          "start_time": "2023-04-19T14:44:54.656392",
          "status": "completed"
        },
        "tags": [],
        "id": "2ad5792c"
      },
      "outputs": [],
      "source": [
        "## categories in classes\n",
        "df['Classes'].value_counts()"
      ]
    },
    {
      "cell_type": "code",
      "execution_count": null,
      "id": "3bc45014",
      "metadata": {
        "execution": {
          "iopub.execute_input": "2023-04-19T14:44:54.717158Z",
          "iopub.status.busy": "2023-04-19T14:44:54.716764Z",
          "iopub.status.idle": "2023-04-19T14:44:54.723058Z",
          "shell.execute_reply": "2023-04-19T14:44:54.721910Z"
        },
        "papermill": {
          "duration": 0.02564,
          "end_time": "2023-04-19T14:44:54.725301",
          "exception": false,
          "start_time": "2023-04-19T14:44:54.699661",
          "status": "completed"
        },
        "tags": [],
        "id": "3bc45014"
      },
      "outputs": [],
      "source": [
        "## Encoding of the categories in classes\n",
        "df['Classes']=np.where(df['Classes'].str.contains('not fire'),0,1)"
      ]
    },
    {
      "cell_type": "code",
      "execution_count": null,
      "id": "7aa7fe57",
      "metadata": {
        "execution": {
          "iopub.execute_input": "2023-04-19T14:44:54.758224Z",
          "iopub.status.busy": "2023-04-19T14:44:54.757800Z",
          "iopub.status.idle": "2023-04-19T14:44:54.774478Z",
          "shell.execute_reply": "2023-04-19T14:44:54.773598Z"
        },
        "papermill": {
          "duration": 0.035703,
          "end_time": "2023-04-19T14:44:54.776604",
          "exception": false,
          "start_time": "2023-04-19T14:44:54.740901",
          "status": "completed"
        },
        "tags": [],
        "id": "7aa7fe57"
      },
      "outputs": [],
      "source": [
        "df.head()"
      ]
    },
    {
      "cell_type": "code",
      "execution_count": null,
      "id": "b290bff4",
      "metadata": {
        "execution": {
          "iopub.execute_input": "2023-04-19T14:44:54.811180Z",
          "iopub.status.busy": "2023-04-19T14:44:54.810080Z",
          "iopub.status.idle": "2023-04-19T14:44:54.818535Z",
          "shell.execute_reply": "2023-04-19T14:44:54.817593Z"
        },
        "papermill": {
          "duration": 0.028151,
          "end_time": "2023-04-19T14:44:54.820908",
          "exception": false,
          "start_time": "2023-04-19T14:44:54.792757",
          "status": "completed"
        },
        "tags": [],
        "id": "b290bff4"
      },
      "outputs": [],
      "source": [
        "df['Classes'].value_counts()"
      ]
    },
    {
      "cell_type": "markdown",
      "id": "542ebb4e",
      "metadata": {
        "papermill": {
          "duration": 0.016554,
          "end_time": "2023-04-19T14:44:54.853508",
          "exception": false,
          "start_time": "2023-04-19T14:44:54.836954",
          "status": "completed"
        },
        "tags": [],
        "id": "542ebb4e"
      },
      "source": [
        "### Plot desnity plot for all features"
      ]
    },
    {
      "cell_type": "code",
      "execution_count": null,
      "id": "6e6fdc83",
      "metadata": {
        "execution": {
          "iopub.execute_input": "2023-04-19T14:44:54.887157Z",
          "iopub.status.busy": "2023-04-19T14:44:54.886757Z",
          "iopub.status.idle": "2023-04-19T14:44:57.595396Z",
          "shell.execute_reply": "2023-04-19T14:44:57.594419Z"
        },
        "papermill": {
          "duration": 2.728674,
          "end_time": "2023-04-19T14:44:57.598088",
          "exception": false,
          "start_time": "2023-04-19T14:44:54.869414",
          "status": "completed"
        },
        "tags": [],
        "id": "6e6fdc83"
      },
      "outputs": [],
      "source": [
        "## Plot desnity plot for all features\n",
        "plt.style.use('seaborn')\n",
        "df.hist(bins=50,figsize=(20,15))\n",
        "plt.show()"
      ]
    },
    {
      "cell_type": "code",
      "execution_count": null,
      "id": "318f9b98",
      "metadata": {
        "execution": {
          "iopub.execute_input": "2023-04-19T14:44:57.637142Z",
          "iopub.status.busy": "2023-04-19T14:44:57.635899Z",
          "iopub.status.idle": "2023-04-19T14:45:24.683300Z",
          "shell.execute_reply": "2023-04-19T14:45:24.682009Z"
        },
        "papermill": {
          "duration": 27.080043,
          "end_time": "2023-04-19T14:45:24.696614",
          "exception": false,
          "start_time": "2023-04-19T14:44:57.616571",
          "status": "completed"
        },
        "tags": [],
        "id": "318f9b98"
      },
      "outputs": [],
      "source": [
        "sns.pairplot(df,height=1.5,\n",
        "    aspect=1,)"
      ]
    },
    {
      "cell_type": "code",
      "execution_count": null,
      "id": "7863c6ee",
      "metadata": {
        "execution": {
          "iopub.execute_input": "2023-04-19T14:45:24.763216Z",
          "iopub.status.busy": "2023-04-19T14:45:24.761977Z",
          "iopub.status.idle": "2023-04-19T14:45:24.784392Z",
          "shell.execute_reply": "2023-04-19T14:45:24.783088Z"
        },
        "papermill": {
          "duration": 0.05704,
          "end_time": "2023-04-19T14:45:24.786803",
          "exception": false,
          "start_time": "2023-04-19T14:45:24.729763",
          "status": "completed"
        },
        "tags": [],
        "id": "7863c6ee"
      },
      "outputs": [],
      "source": [
        "df.corr()"
      ]
    },
    {
      "cell_type": "code",
      "execution_count": null,
      "id": "29a02776",
      "metadata": {
        "execution": {
          "iopub.execute_input": "2023-04-19T14:45:24.851810Z",
          "iopub.status.busy": "2023-04-19T14:45:24.850606Z",
          "iopub.status.idle": "2023-04-19T14:45:26.157276Z",
          "shell.execute_reply": "2023-04-19T14:45:26.155941Z"
        },
        "papermill": {
          "duration": 1.341851,
          "end_time": "2023-04-19T14:45:26.159926",
          "exception": false,
          "start_time": "2023-04-19T14:45:24.818075",
          "status": "completed"
        },
        "tags": [],
        "id": "29a02776"
      },
      "outputs": [],
      "source": [
        "sns.heatmap(df.corr(),annot=True)"
      ]
    },
    {
      "cell_type": "code",
      "execution_count": null,
      "id": "acce9d85",
      "metadata": {
        "execution": {
          "iopub.execute_input": "2023-04-19T14:45:26.231534Z",
          "iopub.status.busy": "2023-04-19T14:45:26.230621Z",
          "iopub.status.idle": "2023-04-19T14:45:26.436939Z",
          "shell.execute_reply": "2023-04-19T14:45:26.435640Z"
        },
        "papermill": {
          "duration": 0.245119,
          "end_time": "2023-04-19T14:45:26.439457",
          "exception": false,
          "start_time": "2023-04-19T14:45:26.194338",
          "status": "completed"
        },
        "tags": [],
        "id": "acce9d85"
      },
      "outputs": [],
      "source": [
        "## Box Plots\n",
        "sns.boxplot(df['FWI'],color='green')"
      ]
    },
    {
      "cell_type": "code",
      "execution_count": null,
      "id": "cde64349",
      "metadata": {
        "execution": {
          "iopub.execute_input": "2023-04-19T14:45:26.509901Z",
          "iopub.status.busy": "2023-04-19T14:45:26.509491Z",
          "iopub.status.idle": "2023-04-19T14:45:26.515385Z",
          "shell.execute_reply": "2023-04-19T14:45:26.514230Z"
        },
        "papermill": {
          "duration": 0.044638,
          "end_time": "2023-04-19T14:45:26.517808",
          "exception": false,
          "start_time": "2023-04-19T14:45:26.473170",
          "status": "completed"
        },
        "tags": [],
        "id": "cde64349"
      },
      "outputs": [],
      "source": [
        "## Independent And dependent features\n",
        "X=df.drop('FWI',axis=1)\n",
        "y=df['FWI']"
      ]
    },
    {
      "cell_type": "code",
      "execution_count": null,
      "id": "b78b52e3",
      "metadata": {
        "execution": {
          "iopub.execute_input": "2023-04-19T14:45:26.587397Z",
          "iopub.status.busy": "2023-04-19T14:45:26.586635Z",
          "iopub.status.idle": "2023-04-19T14:45:26.604793Z",
          "shell.execute_reply": "2023-04-19T14:45:26.603629Z"
        },
        "papermill": {
          "duration": 0.055922,
          "end_time": "2023-04-19T14:45:26.607509",
          "exception": false,
          "start_time": "2023-04-19T14:45:26.551587",
          "status": "completed"
        },
        "tags": [],
        "id": "b78b52e3"
      },
      "outputs": [],
      "source": [
        "X.head()"
      ]
    },
    {
      "cell_type": "code",
      "execution_count": null,
      "id": "c329b871",
      "metadata": {
        "execution": {
          "iopub.execute_input": "2023-04-19T14:45:26.677642Z",
          "iopub.status.busy": "2023-04-19T14:45:26.676780Z",
          "iopub.status.idle": "2023-04-19T14:45:26.686132Z",
          "shell.execute_reply": "2023-04-19T14:45:26.685154Z"
        },
        "papermill": {
          "duration": 0.047191,
          "end_time": "2023-04-19T14:45:26.688506",
          "exception": false,
          "start_time": "2023-04-19T14:45:26.641315",
          "status": "completed"
        },
        "tags": [],
        "id": "c329b871"
      },
      "outputs": [],
      "source": [
        "y"
      ]
    },
    {
      "cell_type": "code",
      "execution_count": null,
      "id": "3a7c730b",
      "metadata": {
        "execution": {
          "iopub.execute_input": "2023-04-19T14:45:26.759315Z",
          "iopub.status.busy": "2023-04-19T14:45:26.758440Z",
          "iopub.status.idle": "2023-04-19T14:45:26.991698Z",
          "shell.execute_reply": "2023-04-19T14:45:26.990502Z"
        },
        "papermill": {
          "duration": 0.271895,
          "end_time": "2023-04-19T14:45:26.994678",
          "exception": false,
          "start_time": "2023-04-19T14:45:26.722783",
          "status": "completed"
        },
        "tags": [],
        "id": "3a7c730b"
      },
      "outputs": [],
      "source": [
        "#Train Test Split\n",
        "from sklearn.model_selection import train_test_split\n",
        "X_train,X_test,y_train,y_test=train_test_split(X,y,test_size=0.25,random_state=42)"
      ]
    },
    {
      "cell_type": "code",
      "execution_count": null,
      "id": "2d16ece0",
      "metadata": {
        "execution": {
          "iopub.execute_input": "2023-04-19T14:45:27.066628Z",
          "iopub.status.busy": "2023-04-19T14:45:27.065559Z",
          "iopub.status.idle": "2023-04-19T14:45:27.072695Z",
          "shell.execute_reply": "2023-04-19T14:45:27.071874Z"
        },
        "papermill": {
          "duration": 0.046017,
          "end_time": "2023-04-19T14:45:27.074670",
          "exception": false,
          "start_time": "2023-04-19T14:45:27.028653",
          "status": "completed"
        },
        "tags": [],
        "id": "2d16ece0"
      },
      "outputs": [],
      "source": [
        "X_train.shape,X_test.shape"
      ]
    },
    {
      "cell_type": "code",
      "execution_count": null,
      "id": "a4f1f8cb",
      "metadata": {
        "execution": {
          "iopub.execute_input": "2023-04-19T14:45:27.149440Z",
          "iopub.status.busy": "2023-04-19T14:45:27.148702Z",
          "iopub.status.idle": "2023-04-19T14:45:27.168105Z",
          "shell.execute_reply": "2023-04-19T14:45:27.166879Z"
        },
        "papermill": {
          "duration": 0.059718,
          "end_time": "2023-04-19T14:45:27.170548",
          "exception": false,
          "start_time": "2023-04-19T14:45:27.110830",
          "status": "completed"
        },
        "tags": [],
        "id": "a4f1f8cb"
      },
      "outputs": [],
      "source": [
        "## Feature Selection based on correlaltion\n",
        "X_train.corr()"
      ]
    },
    {
      "cell_type": "code",
      "execution_count": null,
      "id": "058e6e94",
      "metadata": {
        "execution": {
          "iopub.execute_input": "2023-04-19T14:45:27.243061Z",
          "iopub.status.busy": "2023-04-19T14:45:27.242613Z",
          "iopub.status.idle": "2023-04-19T14:45:27.249258Z",
          "shell.execute_reply": "2023-04-19T14:45:27.248046Z"
        },
        "papermill": {
          "duration": 0.046364,
          "end_time": "2023-04-19T14:45:27.251420",
          "exception": false,
          "start_time": "2023-04-19T14:45:27.205056",
          "status": "completed"
        },
        "tags": [],
        "id": "058e6e94"
      },
      "outputs": [],
      "source": [
        "def correlation(dataset, threshold):\n",
        "    col_corr = set()\n",
        "    corr_matrix = dataset.corr()\n",
        "    for i in range(len(corr_matrix.columns)):\n",
        "        for j in range(i):\n",
        "            if abs(corr_matrix.iloc[i, j]) > threshold:\n",
        "                colname = corr_matrix.columns[i]\n",
        "                col_corr.add(colname)\n",
        "    return col_corr"
      ]
    },
    {
      "cell_type": "code",
      "execution_count": null,
      "id": "9b81dfc0",
      "metadata": {
        "execution": {
          "iopub.execute_input": "2023-04-19T14:45:27.323113Z",
          "iopub.status.busy": "2023-04-19T14:45:27.322642Z",
          "iopub.status.idle": "2023-04-19T14:45:27.330744Z",
          "shell.execute_reply": "2023-04-19T14:45:27.329611Z"
        },
        "papermill": {
          "duration": 0.047237,
          "end_time": "2023-04-19T14:45:27.333134",
          "exception": false,
          "start_time": "2023-04-19T14:45:27.285897",
          "status": "completed"
        },
        "tags": [],
        "id": "9b81dfc0"
      },
      "outputs": [],
      "source": [
        "## threshold--Domain expertise\n",
        "corr_features=correlation(X_train,0.85)"
      ]
    },
    {
      "cell_type": "code",
      "execution_count": null,
      "id": "7a17ba39",
      "metadata": {
        "execution": {
          "iopub.execute_input": "2023-04-19T14:45:27.405928Z",
          "iopub.status.busy": "2023-04-19T14:45:27.404680Z",
          "iopub.status.idle": "2023-04-19T14:45:27.411049Z",
          "shell.execute_reply": "2023-04-19T14:45:27.410181Z"
        },
        "papermill": {
          "duration": 0.045584,
          "end_time": "2023-04-19T14:45:27.413139",
          "exception": false,
          "start_time": "2023-04-19T14:45:27.367555",
          "status": "completed"
        },
        "tags": [],
        "id": "7a17ba39"
      },
      "outputs": [],
      "source": [
        "corr_features"
      ]
    },
    {
      "cell_type": "code",
      "execution_count": null,
      "id": "709b8dce",
      "metadata": {
        "execution": {
          "iopub.execute_input": "2023-04-19T14:45:27.486371Z",
          "iopub.status.busy": "2023-04-19T14:45:27.485950Z",
          "iopub.status.idle": "2023-04-19T14:45:27.495099Z",
          "shell.execute_reply": "2023-04-19T14:45:27.494165Z"
        },
        "papermill": {
          "duration": 0.048811,
          "end_time": "2023-04-19T14:45:27.497402",
          "exception": false,
          "start_time": "2023-04-19T14:45:27.448591",
          "status": "completed"
        },
        "tags": [],
        "id": "709b8dce"
      },
      "outputs": [],
      "source": [
        "## drop features when correlation is more than 0.85\n",
        "X_train.drop(corr_features,axis=1,inplace=True)\n",
        "X_test.drop(corr_features,axis=1,inplace=True)\n",
        "X_train.shape,X_test.shape"
      ]
    },
    {
      "cell_type": "code",
      "execution_count": null,
      "id": "48176e4f",
      "metadata": {
        "execution": {
          "iopub.execute_input": "2023-04-19T14:45:27.571184Z",
          "iopub.status.busy": "2023-04-19T14:45:27.570542Z",
          "iopub.status.idle": "2023-04-19T14:45:27.582224Z",
          "shell.execute_reply": "2023-04-19T14:45:27.580872Z"
        },
        "papermill": {
          "duration": 0.051541,
          "end_time": "2023-04-19T14:45:27.584463",
          "exception": false,
          "start_time": "2023-04-19T14:45:27.532922",
          "status": "completed"
        },
        "tags": [],
        "id": "48176e4f"
      },
      "outputs": [],
      "source": [
        "from sklearn.preprocessing import StandardScaler\n",
        "scaler=StandardScaler()\n",
        "X_train_scaled=scaler.fit_transform(X_train)\n",
        "X_test_scaled=scaler.transform(X_test)"
      ]
    },
    {
      "cell_type": "code",
      "execution_count": null,
      "id": "9cbbd737",
      "metadata": {
        "execution": {
          "iopub.execute_input": "2023-04-19T14:45:27.656700Z",
          "iopub.status.busy": "2023-04-19T14:45:27.655721Z",
          "iopub.status.idle": "2023-04-19T14:45:27.662932Z",
          "shell.execute_reply": "2023-04-19T14:45:27.661972Z"
        },
        "papermill": {
          "duration": 0.045759,
          "end_time": "2023-04-19T14:45:27.665120",
          "exception": false,
          "start_time": "2023-04-19T14:45:27.619361",
          "status": "completed"
        },
        "tags": [],
        "id": "9cbbd737"
      },
      "outputs": [],
      "source": [
        "X_train_scaled"
      ]
    },
    {
      "cell_type": "code",
      "execution_count": null,
      "id": "7d24633f",
      "metadata": {
        "execution": {
          "iopub.execute_input": "2023-04-19T14:45:27.738212Z",
          "iopub.status.busy": "2023-04-19T14:45:27.737479Z",
          "iopub.status.idle": "2023-04-19T14:45:28.336837Z",
          "shell.execute_reply": "2023-04-19T14:45:28.335952Z"
        },
        "papermill": {
          "duration": 0.639079,
          "end_time": "2023-04-19T14:45:28.339142",
          "exception": false,
          "start_time": "2023-04-19T14:45:27.700063",
          "status": "completed"
        },
        "tags": [],
        "id": "7d24633f"
      },
      "outputs": [],
      "source": [
        "plt.subplots(figsize=(15, 5))\n",
        "plt.subplot(1, 2, 1)\n",
        "sns.boxplot(data=X_train)\n",
        "plt.title('X_train Before Scaling')\n",
        "plt.subplot(1, 2, 2)\n",
        "sns.boxplot(data=X_train_scaled)\n",
        "plt.title('X_train After Scaling')"
      ]
    },
    {
      "cell_type": "markdown",
      "id": "02d520d0",
      "metadata": {
        "papermill": {
          "duration": 0.0366,
          "end_time": "2023-04-19T14:45:28.411311",
          "exception": false,
          "start_time": "2023-04-19T14:45:28.374711",
          "status": "completed"
        },
        "tags": [],
        "id": "02d520d0"
      },
      "source": [
        "### Linear Regression"
      ]
    },
    {
      "cell_type": "code",
      "execution_count": null,
      "id": "8d7d77f9",
      "metadata": {
        "execution": {
          "iopub.execute_input": "2023-04-19T14:45:28.487600Z",
          "iopub.status.busy": "2023-04-19T14:45:28.486968Z",
          "iopub.status.idle": "2023-04-19T14:45:28.589028Z",
          "shell.execute_reply": "2023-04-19T14:45:28.587586Z"
        },
        "papermill": {
          "duration": 0.143567,
          "end_time": "2023-04-19T14:45:28.591695",
          "exception": false,
          "start_time": "2023-04-19T14:45:28.448128",
          "status": "completed"
        },
        "tags": [],
        "id": "8d7d77f9"
      },
      "outputs": [],
      "source": [
        "from sklearn.linear_model import LinearRegression\n",
        "from sklearn.metrics import mean_absolute_error\n",
        "from sklearn.metrics import r2_score\n",
        "linreg=LinearRegression()\n",
        "linreg.fit(X_train_scaled,y_train)\n",
        "y_pred=linreg.predict(X_test_scaled)\n",
        "mae=mean_absolute_error(y_test,y_pred)\n",
        "score=r2_score(y_test,y_pred)\n",
        "print(\"Mean absolute error\", mae)\n",
        "print(\"R2 Score\", score)"
      ]
    },
    {
      "cell_type": "markdown",
      "id": "33f3f1ed",
      "metadata": {
        "papermill": {
          "duration": 0.036841,
          "end_time": "2023-04-19T14:45:28.664508",
          "exception": false,
          "start_time": "2023-04-19T14:45:28.627667",
          "status": "completed"
        },
        "tags": [],
        "id": "33f3f1ed"
      },
      "source": [
        "### Lasso Regression"
      ]
    },
    {
      "cell_type": "code",
      "execution_count": null,
      "id": "a59b78a5",
      "metadata": {
        "execution": {
          "iopub.execute_input": "2023-04-19T14:45:28.740680Z",
          "iopub.status.busy": "2023-04-19T14:45:28.740280Z",
          "iopub.status.idle": "2023-04-19T14:45:28.753279Z",
          "shell.execute_reply": "2023-04-19T14:45:28.751797Z"
        },
        "papermill": {
          "duration": 0.054142,
          "end_time": "2023-04-19T14:45:28.755669",
          "exception": false,
          "start_time": "2023-04-19T14:45:28.701527",
          "status": "completed"
        },
        "tags": [],
        "id": "a59b78a5"
      },
      "outputs": [],
      "source": [
        "from sklearn.linear_model import Lasso\n",
        "from sklearn.metrics import mean_absolute_error\n",
        "from sklearn.metrics import r2_score\n",
        "lasso=Lasso()\n",
        "lasso.fit(X_train_scaled,y_train)\n",
        "y_pred=lasso.predict(X_test_scaled)\n",
        "mae=mean_absolute_error(y_test,y_pred)\n",
        "score=r2_score(y_test,y_pred)\n",
        "print(\"Mean absolute error\", mae)\n",
        "print(\"R2 Score\", score)"
      ]
    },
    {
      "cell_type": "markdown",
      "id": "575f7da5",
      "metadata": {
        "papermill": {
          "duration": 0.036557,
          "end_time": "2023-04-19T14:45:28.828186",
          "exception": false,
          "start_time": "2023-04-19T14:45:28.791629",
          "status": "completed"
        },
        "tags": [],
        "id": "575f7da5"
      },
      "source": [
        "### Ridge Regression"
      ]
    },
    {
      "cell_type": "code",
      "execution_count": null,
      "id": "ca28da69",
      "metadata": {
        "execution": {
          "iopub.execute_input": "2023-04-19T14:45:28.903359Z",
          "iopub.status.busy": "2023-04-19T14:45:28.902954Z",
          "iopub.status.idle": "2023-04-19T14:45:28.916766Z",
          "shell.execute_reply": "2023-04-19T14:45:28.915458Z"
        },
        "papermill": {
          "duration": 0.055171,
          "end_time": "2023-04-19T14:45:28.919183",
          "exception": false,
          "start_time": "2023-04-19T14:45:28.864012",
          "status": "completed"
        },
        "tags": [],
        "id": "ca28da69"
      },
      "outputs": [],
      "source": [
        "from sklearn.linear_model import Ridge\n",
        "from sklearn.metrics import mean_absolute_error\n",
        "from sklearn.metrics import r2_score\n",
        "ridge=Ridge()\n",
        "ridge.fit(X_train_scaled,y_train)\n",
        "y_pred=ridge.predict(X_test_scaled)\n",
        "mae=mean_absolute_error(y_test,y_pred)\n",
        "score=r2_score(y_test,y_pred)\n",
        "print(\"Mean absolute error\", mae)\n",
        "print(\"R2 Score\", score)"
      ]
    },
    {
      "cell_type": "markdown",
      "id": "b6b27903",
      "metadata": {
        "papermill": {
          "duration": 0.035694,
          "end_time": "2023-04-19T14:45:28.990795",
          "exception": false,
          "start_time": "2023-04-19T14:45:28.955101",
          "status": "completed"
        },
        "tags": [],
        "id": "b6b27903"
      },
      "source": [
        "### ElasticNet"
      ]
    },
    {
      "cell_type": "code",
      "execution_count": null,
      "id": "91964444",
      "metadata": {
        "execution": {
          "iopub.execute_input": "2023-04-19T14:45:29.065697Z",
          "iopub.status.busy": "2023-04-19T14:45:29.064305Z",
          "iopub.status.idle": "2023-04-19T14:45:29.075155Z",
          "shell.execute_reply": "2023-04-19T14:45:29.073773Z"
        },
        "papermill": {
          "duration": 0.051073,
          "end_time": "2023-04-19T14:45:29.077638",
          "exception": false,
          "start_time": "2023-04-19T14:45:29.026565",
          "status": "completed"
        },
        "tags": [],
        "id": "91964444"
      },
      "outputs": [],
      "source": [
        "from sklearn.linear_model import ElasticNet\n",
        "from sklearn.metrics import mean_absolute_error\n",
        "from sklearn.metrics import r2_score\n",
        "elastic=ElasticNet()\n",
        "elastic.fit(X_train_scaled,y_train)\n",
        "y_pred=elastic.predict(X_test_scaled)\n",
        "mae=mean_absolute_error(y_test,y_pred)\n",
        "score=r2_score(y_test,y_pred)\n",
        "print(\"Mean absolute error\", mae)\n",
        "print(\"R2 Score\", score)"
      ]
    },
    {
      "cell_type": "code",
      "execution_count": null,
      "id": "367e640c",
      "metadata": {
        "execution": {
          "iopub.execute_input": "2023-04-19T14:45:29.151937Z",
          "iopub.status.busy": "2023-04-19T14:45:29.150904Z",
          "iopub.status.idle": "2023-04-19T14:45:29.157282Z",
          "shell.execute_reply": "2023-04-19T14:45:29.156307Z"
        },
        "papermill": {
          "duration": 0.046017,
          "end_time": "2023-04-19T14:45:29.159556",
          "exception": false,
          "start_time": "2023-04-19T14:45:29.113539",
          "status": "completed"
        },
        "tags": [],
        "id": "367e640c"
      },
      "outputs": [],
      "source": [
        "import pickle\n",
        "pickle.dump(scaler,open('scaler.pkl','wb'))\n",
        "pickle.dump(ridge,open('ridge.pkl','wb'))"
      ]
    },
    {
      "cell_type": "code",
      "execution_count": null,
      "id": "2fae6649",
      "metadata": {
        "papermill": {
          "duration": 0.035848,
          "end_time": "2023-04-19T14:45:29.231616",
          "exception": false,
          "start_time": "2023-04-19T14:45:29.195768",
          "status": "completed"
        },
        "tags": [],
        "id": "2fae6649"
      },
      "outputs": [],
      "source": []
    }
  ],
  "metadata": {
    "kernelspec": {
      "display_name": "Python 3",
      "language": "python",
      "name": "python3"
    },
    "language_info": {
      "codemirror_mode": {
        "name": "ipython",
        "version": 3
      },
      "file_extension": ".py",
      "mimetype": "text/x-python",
      "name": "python",
      "nbconvert_exporter": "python",
      "pygments_lexer": "ipython3",
      "version": "3.7.12"
    },
    "papermill": {
      "default_parameters": {},
      "duration": 48.301843,
      "end_time": "2023-04-19T14:45:30.492100",
      "environment_variables": {},
      "exception": null,
      "input_path": "__notebook__.ipynb",
      "output_path": "__notebook__.ipynb",
      "parameters": {},
      "start_time": "2023-04-19T14:44:42.190257",
      "version": "2.4.0"
    },
    "colab": {
      "provenance": []
    }
  },
  "nbformat": 4,
  "nbformat_minor": 5
}